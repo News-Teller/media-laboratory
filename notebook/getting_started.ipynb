{
 "cells": [
  {
   "source": [
    "# DataViz\n",
    "The `dataviz` package allows you to store your Dash apps and make them accessible from the webserver. To know more of this webserver, check the `server` folder of this repo [here](https://github.com/News-Teller/media-laboratory/server).\n",
    "\n",
    "Now, let's create a simple Dash app as an example."
   ],
   "cell_type": "markdown",
   "metadata": {}
  },
  {
   "cell_type": "code",
   "execution_count": 1,
   "metadata": {},
   "outputs": [],
   "source": [
    "import dataviz\n",
    "\n",
    "import jupyter_dash\n",
    "import dash_core_components as dcc\n",
    "import dash_html_components as html\n",
    "import plotly.express as px\n",
    "import pandas as pd"
   ]
  },
  {
   "cell_type": "code",
   "execution_count": null,
   "metadata": {},
   "outputs": [],
   "source": [
    "# the following example is taken from https://dash.plotly.com/layout\n",
    "external_stylesheets = ['https://codepen.io/chriddyp/pen/bWLwgP.css']\n",
    "\n",
    "app = jupyter_dash.JupyterDash(\n",
    "    __name__,\n",
    "    title = 'Hello Dash',\n",
    "    external_stylesheets=external_stylesheets\n",
    ")\n",
    "\n",
    "df = pd.DataFrame({\n",
    "    \"Fruit\": [\"Apples\", \"Oranges\", \"Bananas\", \"Apples\", \"Oranges\", \"Bananas\"],\n",
    "    \"Amount\": [4, 1, 2, 2, 4, 5],\n",
    "    \"City\": [\"SF\", \"SF\", \"SF\", \"Montreal\", \"Montreal\", \"Montreal\"]\n",
    "})\n",
    "\n",
    "fig = px.bar(df, x=\"Fruit\", y=\"Amount\", color=\"City\", barmode=\"group\")\n",
    "\n",
    "app.layout = html.Div(children=[\n",
    "    html.H1(children='Hello Dash'),\n",
    "\n",
    "    html.Div(children='''\n",
    "        Dash: A web application framework for Python.\n",
    "    '''),\n",
    "\n",
    "    dcc.Graph(\n",
    "        id='example-graph',\n",
    "        figure=fig\n",
    "    )\n",
    "])"
   ]
  },
  {
   "source": [
    "Use the `DataViz` class to manage your visualizations and the `store` method to save them in the database.  \n",
    "The `uid` is used to uniquely identifies them across all users. It can only be composed by alphanumeric characters, underscores and dashes (regex `^[a-zA-Z0-9_-]+$`).  \n",
    "You can use one of your choise (use `check_uid_availability` from `datavis.utils` to see if your name is available)\n",
    "or use the `generate_uid` function inside `dataviz.utils` to generate a random one.  \n",
    "The `title` provided here doens't need to match the one of the app and it's only used to better distinguish the app among the others. \n",
    "\n",
    "Once it's store the app will be accessible at `http(s)://<server-name:port>/<uid>`."
   ],
   "cell_type": "markdown",
   "metadata": {}
  },
  {
   "cell_type": "code",
   "execution_count": null,
   "metadata": {},
   "outputs": [],
   "source": [
    "# Instantiate the dataviz manager and store the viz created above\n",
    "dz = dataviz.DataViz()\n",
    "dz.store(\n",
    "    uid='example',\n",
    "    title='example viz',\n",
    "    dash_app=app,\n",
    "    tags=['notebook', 'example']\n",
    ")"
   ]
  },
  {
   "source": [],
   "cell_type": "markdown",
   "metadata": {}
  }
 ],
 "metadata": {
  "kernelspec": {
   "name": "python382jvsc74a57bd010c12fbbe64ac0d8f500e9d80fd79e991089930447bb5ad5794fe98965186b06",
   "display_name": "Python 3.8.2 64-bit"
  },
  "language_info": {
   "codemirror_mode": {
    "name": "ipython",
    "version": 3
   },
   "file_extension": ".py",
   "mimetype": "text/x-python",
   "name": "python",
   "nbconvert_exporter": "python",
   "pygments_lexer": "ipython3",
   "version": "3.8.2"
  }
 },
 "nbformat": 4,
 "nbformat_minor": 4
}