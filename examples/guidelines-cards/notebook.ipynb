{
 "cells": [
  {
   "cell_type": "markdown",
   "source": [
    "# Guidelines cards example\n",
    "\n",
    "This is an example to help you get started with Media Laboratory visualizations,\n",
    "which also makes use of the [Guideline cards](https://news-teller.github.io/media-laboratory-web/#/guidelines).  \n",
    "The step-by-step guide is available [here](https://news-teller.github.io/media-laboratory-web/#/developers)."
   ],
   "metadata": {}
  },
  {
   "cell_type": "code",
   "execution_count": null,
   "source": [
    "import os\n",
    "import dataviz\n",
    "\n",
    "from jupyter_dash import JupyterDash\n",
    "import dash_core_components as dcc\n",
    "import dash_html_components as html\n",
    "from dash.dependencies import Input, Output\n",
    "import plotly.express as px\n",
    "import pandas as pd"
   ],
   "outputs": [],
   "metadata": {}
  },
  {
   "cell_type": "code",
   "execution_count": null,
   "source": [
    "# Create main plot\n",
    "df = pd.DataFrame({\n",
    "    \"Source\": [\n",
    "        \"Agriculture\", \"Déchets\", \"Energie (centrales électriques)\", \"Industrie (combustion)\",\n",
    "        \"Industrie (procédés)\", \"Transports\", \"Résidentiel\", \"Tertiaire\"\n",
    "    ],\n",
    "    \"Amount\": [9, 1, 11, 26, 16, 19, 14, 4],\n",
    "})\n",
    "\n",
    "fig = px.pie(df, values=\"Amount\", names=\"Source\", color_discrete_sequence=px.colors.sequential.RdBu)\n",
    "\n",
    "\n",
    "# Create Dash application\n",
    "UID = '9d61311fd159'\n",
    "\n",
    "app = JupyterDash(\n",
    "    title='Guidelines cards example',\n",
    "    assets_folder=os.getenv(\"ASSETS_FOLDER\", \"\") + \"/\" + UID,\n",
    "    external_scripts=[\n",
    "        'https://unpkg.com/@popperjs/core@2',\n",
    "        'https://news-teller.github.io/media-laboratory-web/popovers.js',\n",
    "    ]\n",
    ")\n",
    "\n",
    "# Construct layout\n",
    "def get_popover_element(text: str, card_id: str) -> html:\n",
    "    \"\"\"Construct a <i> tag to trigger a popover. \"\"\"\n",
    "    data_attrs = {\n",
    "        \"data-toggle\": \"popovercard\",\n",
    "        \"data-card-id\": card_id,\n",
    "    }\n",
    "    \n",
    "    return html.I(text, **data_attrs)\n",
    "\n",
    "header = html.Div(children=[\n",
    "    html.H1(\"Guidelines cards example\"),\n",
    "    html.H2(children=[\n",
    "        \"Emissions de \",\n",
    "        get_popover_element(\"gaz à effet de serre\", card_id=\"30\")\n",
    "    ]),  \n",
    "])\n",
    "\n",
    "footer = html.Div(children=[\n",
    "    get_popover_element(\"Le CO2\", card_id=\"54\"),\n",
    "    \"\"\"\n",
    "    qui représente 86 % des émissions totales de gaz à effet de serre,\n",
    "    est principalement émis lors des processus de combustion:\n",
    "    industrie, transports, chauffage résidentiel, industries de production d’électricité et tertiaire. \n",
    "    \"\"\"\n",
    "])\n",
    "\n",
    "# we'll need these later to define a clientside callback\n",
    "empty_divs = html.Div(children=[\n",
    "    html.Div(id='blank-input'),\n",
    "    html.Div(id='blank-output')\n",
    "], className=\"clientside-io\")\n",
    "\n",
    "\n",
    "app.layout = html.Div(children=[\n",
    "    header,\n",
    "    dcc.Graph(figure=fig),\n",
    "    footer,\n",
    "    empty_divs,\n",
    "], className=\"wrapper\")\n",
    "\n",
    "\n",
    "# define a callback to load popovers card when the page is fully loaded\n",
    "app.clientside_callback(\n",
    "    \"\"\"\n",
    "    function() {\n",
    "        const showCards = window['reloadPopoversjsElements'];\n",
    "        if (showCards) showCards();\n",
    "    }\n",
    "    \"\"\",\n",
    "    Output('blank-output', 'children'),\n",
    "    Input('blank-input', 'children'),\n",
    ")"
   ],
   "outputs": [],
   "metadata": {}
  },
  {
   "cell_type": "code",
   "execution_count": null,
   "source": [
    "JupyterDash.infer_jupyter_proxy_config()\n",
    "app.run_server(mode=\"external\", port='8051')"
   ],
   "outputs": [],
   "metadata": {}
  },
  {
   "cell_type": "code",
   "execution_count": null,
   "source": [
    "# the `DataViz` helps manage (save,list,retrieve) the visualizations\n",
    "dz = dataviz.DataViz()"
   ],
   "outputs": [],
   "metadata": {}
  },
  {
   "cell_type": "code",
   "execution_count": null,
   "source": [
    "# save the viz created above\n",
    "dz.store(\n",
    "    uid=UID,\n",
    "    title=app.title,\n",
    "    dash_app=app,\n",
    "    tags=['notebook', 'example'] # tags are optional\n",
    ")"
   ],
   "outputs": [],
   "metadata": {}
  }
 ],
 "metadata": {
  "interpreter": {
   "hash": "ed3a507182beebf8f55759e6fa3f9274e84eb902d5845526ba3848f00e017031"
  },
  "kernelspec": {
   "name": "python3",
   "display_name": "Python 3.8.11 64-bit ('medialab': conda)"
  },
  "language_info": {
   "codemirror_mode": {
    "name": "ipython",
    "version": 3
   },
   "file_extension": ".py",
   "mimetype": "text/x-python",
   "name": "python",
   "nbconvert_exporter": "python",
   "pygments_lexer": "ipython3",
   "version": "3.8.11"
  }
 },
 "nbformat": 4,
 "nbformat_minor": 4
}