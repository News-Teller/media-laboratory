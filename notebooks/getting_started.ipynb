{
 "cells": [
  {
   "source": [
    "# DataViz\n",
    "The `dataviz` package allows you to interact with the backend infrastructure, by storing your Plotly Dash apps and serve them with the server.  \n",
    "To know more of the backend, check the `server` folder of this repo [here](https://github.com/News-Teller/media-laboratory/server).\n",
    "\n",
    "Let's create a simple Dash app as an example."
   ],
   "cell_type": "markdown",
   "metadata": {}
  },
  {
   "cell_type": "code",
   "execution_count": 1,
   "metadata": {},
   "outputs": [],
   "source": [
    "import dataviz\n",
    "\n",
    "import jupyter_dash\n",
    "import dash_core_components as dcc\n",
    "import dash_html_components as html\n",
    "import plotly.express as px\n",
    "import pandas as pd"
   ]
  },
  {
   "cell_type": "code",
   "execution_count": 10,
   "metadata": {},
   "outputs": [],
   "source": [
    "# the following example is taken from https://dash.plotly.com/layout\n",
    "external_stylesheets = ['https://codepen.io/chriddyp/pen/bWLwgP.css']\n",
    "\n",
    "app = jupyter_dash.JupyterDash(__name__, external_stylesheets=external_stylesheets)\n",
    "\n",
    "df = pd.DataFrame({\n",
    "    \"Fruit\": [\"Apples\", \"Oranges\", \"Bananas\", \"Apples\", \"Oranges\", \"Bananas\"],\n",
    "    \"Amount\": [4, 1, 2, 2, 4, 5],\n",
    "    \"City\": [\"SF\", \"SF\", \"SF\", \"Montreal\", \"Montreal\", \"Montreal\"]\n",
    "})\n",
    "\n",
    "fig = px.bar(df, x=\"Fruit\", y=\"Amount\", color=\"City\", barmode=\"group\")\n",
    "\n",
    "app.layout = html.Div(children=[\n",
    "    html.H1(children='Hello Dash'),\n",
    "\n",
    "    html.Div(children='''\n",
    "        Dash: A web application framework for Python.\n",
    "    '''),\n",
    "\n",
    "    dcc.Graph(\n",
    "        id='example-graph',\n",
    "        figure=fig\n",
    "    )\n",
    "])"
   ]
  },
  {
   "source": [
    "Use `DataViz` to store the app on backend. The `uid` uniquely identifies the application within the ecosystem and can only be composed by alphanumeric characters, underscores and dashes (regex `^[a-zA-Z0-9_-]+$`).\n",
    "You can use the `generate_uid` function inside `dataviz.utils` to generate a random one.  \n",
    "The `title` provided here doens't need to match the one of the app and it's only used to better distinguish the app among the others. \n",
    "\n",
    "Once it's store the app will be accessible at `http(s)://<server-name>/<uid>`."
   ],
   "cell_type": "markdown",
   "metadata": {}
  },
  {
   "cell_type": "code",
   "execution_count": null,
   "metadata": {},
   "outputs": [],
   "source": [
    "dz = dataviz.DataViz()\n",
    "dz.store(\n",
    "    uid='example',\n",
    "    title='example viz',\n",
    "    dash_app=app,\n",
    "    tags=['notebook', 'example']\n",
    ")"
   ]
  },
  {
   "source": [
    "The `DataViz` object accepts two parameters: `uri` and `user`. Both can be set directly or via environment variables.  \n",
    "If you are not running this locally, for example on a JupyterHub provided by an organization such as NewsTeller's Lab, you should let the organization's team set them using the latter option (like in the example above).  "
   ],
   "cell_type": "markdown",
   "metadata": {}
  },
  {
   "source": [
    "### HTML export\n",
    "`dataviz` also include a shortcut to generate an HTML page from a Plotly.js figure. If your visualization consists only of a plot you an use this feature to improve the performances of the final visualization.    \n",
    "As opposed to the previous call, the one below will also generate an HTML file `<uid>.html` in the current folder (which could be overriden using the `HTML_EXPORTS_FOLDER` environment variable)."
   ],
   "cell_type": "markdown",
   "metadata": {}
  },
  {
   "cell_type": "code",
   "execution_count": null,
   "metadata": {},
   "outputs": [],
   "source": [
    "dz.store(\n",
    "    uid='example',\n",
    "    title='example viz',\n",
    "    dash_app=app,\n",
    "    tags=['notebook', 'example', 'export'],\n",
    "    export_as_html=True,\n",
    "    figure=fig,\n",
    ")"
   ]
  },
  {
   "source": [],
   "cell_type": "markdown",
   "metadata": {}
  }
 ],
 "metadata": {
  "kernelspec": {
   "name": "python382jvsc74a57bd010c12fbbe64ac0d8f500e9d80fd79e991089930447bb5ad5794fe98965186b06",
   "display_name": "Python 3.8.2 64-bit"
  },
  "language_info": {
   "codemirror_mode": {
    "name": "ipython",
    "version": 3
   },
   "file_extension": ".py",
   "mimetype": "text/x-python",
   "name": "python",
   "nbconvert_exporter": "python",
   "pygments_lexer": "ipython3",
   "version": "3.8.2"
  }
 },
 "nbformat": 4,
 "nbformat_minor": 4
}